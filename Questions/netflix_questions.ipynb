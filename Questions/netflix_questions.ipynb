{
  "nbformat": 4,
  "nbformat_minor": 0,
  "metadata": {
    "colab": {
      "provenance": []
    },
    "kernelspec": {
      "name": "python3",
      "display_name": "Python 3"
    },
    "language_info": {
      "name": "python"
    }
  },
  "cells": [
    {
      "cell_type": "markdown",
      "source": [
        "# **Netflix userbase data analysis.**\n",
        "I'll be answering some questions based on the Netflix Userbase Dataset available at: https://www.kaggle.com/datasets/arnavsmayan/netflix-userbase-dataset"
      ],
      "metadata": {
        "id": "9YOIz-0Lzuwg"
      }
    },
    {
      "cell_type": "code",
      "execution_count": 118,
      "metadata": {
        "id": "SXQxjQFzxS1b"
      },
      "outputs": [],
      "source": [
        "import pandas as pd\n",
        "import numpy as np\n",
        "from datetime import datetime, timedelta"
      ]
    },
    {
      "cell_type": "code",
      "source": [
        "df = pd.read_csv('netflix_userbase.csv')"
      ],
      "metadata": {
        "id": "k_St2hepysJS"
      },
      "execution_count": 119,
      "outputs": []
    },
    {
      "cell_type": "markdown",
      "source": [
        "1. What is the average monthly revenue generated from Netflix subscriptions?"
      ],
      "metadata": {
        "id": "8lA7fdCG0TIx"
      }
    },
    {
      "cell_type": "code",
      "source": [
        "# Calculate the average monthly revenue\n",
        "average_monthly_revenue = df['Monthly Revenue'].mean()\n",
        "\n",
        "print(f\"The average monthly revenue is: ${average_monthly_revenue:.2f}\")"
      ],
      "metadata": {
        "colab": {
          "base_uri": "https://localhost:8080/"
        },
        "id": "q8CgFRoq0XtZ",
        "outputId": "96be9639-0b69-4eb8-d66f-0fc1b93e5ac3"
      },
      "execution_count": 120,
      "outputs": [
        {
          "output_type": "stream",
          "name": "stdout",
          "text": [
            "The average monthly revenue is: $12.51\n"
          ]
        }
      ]
    },
    {
      "cell_type": "markdown",
      "source": [
        "2. How many users are there in each subscription type (e.g., Basic, Standard, Premium)?\n",
        "\n",
        "\n",
        "\n"
      ],
      "metadata": {
        "id": "JZIxppAE1vvr"
      }
    },
    {
      "cell_type": "code",
      "source": [
        "# Group by 'Subscription Type' and count the number of users in each group\n",
        "subscription_counts = df.groupby('Subscription Type')['User ID'].count()\n",
        "\n",
        "print(subscription_counts)"
      ],
      "metadata": {
        "colab": {
          "base_uri": "https://localhost:8080/"
        },
        "id": "P1sbbbcz10G4",
        "outputId": "c0d45f41-ed26-4cdf-800b-139826ade4da"
      },
      "execution_count": 121,
      "outputs": [
        {
          "output_type": "stream",
          "name": "stdout",
          "text": [
            "Subscription Type\n",
            "Basic       999\n",
            "Premium     733\n",
            "Standard    768\n",
            "Name: User ID, dtype: int64\n"
          ]
        }
      ]
    },
    {
      "cell_type": "markdown",
      "source": [
        "3. What is the average age of Netflix users in each country?\n",
        "\n",
        "\n"
      ],
      "metadata": {
        "id": "ftB-fp7t2ULw"
      }
    },
    {
      "cell_type": "code",
      "source": [
        "# Group by 'Country' and calculate the average age for each group\n",
        "average_age_by_country = df.groupby('Country')['Age'].mean()\n",
        "\n",
        "print(average_age_by_country)"
      ],
      "metadata": {
        "colab": {
          "base_uri": "https://localhost:8080/"
        },
        "id": "ymyl0fBF2baL",
        "outputId": "dd022c90-2097-4e97-ae69-b7336e137b1f"
      },
      "execution_count": 122,
      "outputs": [
        {
          "output_type": "stream",
          "name": "stdout",
          "text": [
            "Country\n",
            "Australia         38.355191\n",
            "Brazil            38.327869\n",
            "Canada            38.697161\n",
            "France            39.109290\n",
            "Germany           39.038251\n",
            "Italy             38.551913\n",
            "Mexico            38.830601\n",
            "Spain             38.800443\n",
            "United Kingdom    39.191257\n",
            "United States     38.926829\n",
            "Name: Age, dtype: float64\n"
          ]
        }
      ]
    },
    {
      "cell_type": "markdown",
      "source": [
        "4. Which country has the highest number of subscribers?"
      ],
      "metadata": {
        "id": "Bw1reDQM3jld"
      }
    },
    {
      "cell_type": "code",
      "source": [
        "# Group by 'Country' and count the number of subscribers in each group\n",
        "subscriber_counts_by_country = df.groupby('Country')['User ID'].count()\n",
        "\n",
        "# Find the country with the highest number of subscribers\n",
        "country_with_highest_subscribers = subscriber_counts_by_country.idxmax()\n",
        "\n",
        "print(f\"The country with the highest number of subscribers is: {country_with_highest_subscribers}\")"
      ],
      "metadata": {
        "colab": {
          "base_uri": "https://localhost:8080/"
        },
        "id": "F77r_-9K3ok9",
        "outputId": "9e95066a-622e-4a0a-aef6-9db7ed7302cb"
      },
      "execution_count": 123,
      "outputs": [
        {
          "output_type": "stream",
          "name": "stdout",
          "text": [
            "The country with the highest number of subscribers is: Spain\n"
          ]
        }
      ]
    },
    {
      "cell_type": "markdown",
      "source": [
        "5. What is the distribution of users based on their gender?\n",
        "\n"
      ],
      "metadata": {
        "id": "GzWxy7K64syc"
      }
    },
    {
      "cell_type": "code",
      "source": [
        "# Count the number of users for each gender\n",
        "gender_distribution = df['Gender'].value_counts()\n",
        "\n",
        "print(gender_distribution)"
      ],
      "metadata": {
        "colab": {
          "base_uri": "https://localhost:8080/"
        },
        "id": "KQSHJp9x4xc0",
        "outputId": "289a518e-d246-4d87-ce22-21ae9ee18233"
      },
      "execution_count": 124,
      "outputs": [
        {
          "output_type": "stream",
          "name": "stdout",
          "text": [
            "Female    1257\n",
            "Male      1243\n",
            "Name: Gender, dtype: int64\n"
          ]
        }
      ]
    },
    {
      "cell_type": "markdown",
      "source": [
        "6. How many users have joined each month?"
      ],
      "metadata": {
        "id": "CWPh82vt5Hi7"
      }
    },
    {
      "cell_type": "code",
      "source": [
        "# Convert 'Join Date' column to datetime format\n",
        "df['Join Date'] = pd.to_datetime(df['Join Date'])\n",
        "\n",
        "# Extract the month from the 'Join Date' column\n",
        "df['Join Month'] = df['Join Date'].dt.month\n",
        "\n",
        "# Count the number of users joined in each month\n",
        "users_joined_per_month = df['Join Month'].value_counts()\n",
        "\n",
        "# Sort the count of users joined per month in ascending order of the month number\n",
        "users_joined_per_month = users_joined_per_month.sort_index()\n",
        "\n",
        "print(\"Users joined in each month (sorted in ascending order):\")\n",
        "print(users_joined_per_month)"
      ],
      "metadata": {
        "colab": {
          "base_uri": "https://localhost:8080/"
        },
        "id": "nhGIbEb85z5Q",
        "outputId": "5604342b-d8a7-4113-824e-e45a2abc63de"
      },
      "execution_count": 125,
      "outputs": [
        {
          "output_type": "stream",
          "name": "stdout",
          "text": [
            "Users joined in each month (sorted in ascending order):\n",
            "1      88\n",
            "2      92\n",
            "3     103\n",
            "4     108\n",
            "5     135\n",
            "6     338\n",
            "7     396\n",
            "8     296\n",
            "9     306\n",
            "10    418\n",
            "11    122\n",
            "12     98\n",
            "Name: Join Month, dtype: int64\n"
          ]
        }
      ]
    },
    {
      "cell_type": "markdown",
      "source": [
        "7. Which month had the highest number of new sign-ups?\n",
        "\n"
      ],
      "metadata": {
        "id": "Q6NDzY6f7NPm"
      }
    },
    {
      "cell_type": "code",
      "source": [
        "# Convert 'Join Date' column to datetime format\n",
        "df['Join Date'] = pd.to_datetime(df['Join Date'])\n",
        "\n",
        "# Extract the month from the 'Join Date' column\n",
        "df['Join Month'] = df['Join Date'].dt.month\n",
        "\n",
        "# Count the number of users joined in each month\n",
        "users_joined_per_month = df['Join Month'].value_counts()\n",
        "\n",
        "# Find the month with the highest number of new sign-ups\n",
        "month_with_highest_signups = users_joined_per_month.idxmax()\n",
        "\n",
        "print(f\"The month with the highest number of new sign-ups is: {month_with_highest_signups}\")"
      ],
      "metadata": {
        "colab": {
          "base_uri": "https://localhost:8080/"
        },
        "id": "x-UaJGey7Qwn",
        "outputId": "f379a455-2180-4656-b5af-744a924b5c6b"
      },
      "execution_count": 126,
      "outputs": [
        {
          "output_type": "stream",
          "name": "stdout",
          "text": [
            "The month with the highest number of new sign-ups is: 10\n"
          ]
        }
      ]
    },
    {
      "cell_type": "markdown",
      "source": [
        "8. What is the average plan duration chosen by users?"
      ],
      "metadata": {
        "id": "_DtSk8J_7v60"
      }
    },
    {
      "cell_type": "code",
      "source": [
        "# Extract numeric values from 'Plan Duration' column and convert to numeric\n",
        "df['Plan Duration'] = df['Plan Duration'].str.replace(' Month', '').astype(float)\n",
        "\n",
        "# Calculate the average plan duration chosen by users\n",
        "average_plan_duration = df['Plan Duration'].mean()\n",
        "\n",
        "print(f\"The average plan duration chosen by users is: {average_plan_duration:.2f} month\")"
      ],
      "metadata": {
        "colab": {
          "base_uri": "https://localhost:8080/"
        },
        "id": "4gNgRYlj9nHL",
        "outputId": "4a8b40d9-19e6-4ef4-8b0f-b6b1f6c02500"
      },
      "execution_count": 127,
      "outputs": [
        {
          "output_type": "stream",
          "name": "stdout",
          "text": [
            "The average plan duration chosen by users is: 1.00 month\n"
          ]
        }
      ]
    },
    {
      "cell_type": "markdown",
      "source": [
        "9. What is the average monthly revenue generated from each device type (e.g., Mobile, Tablet, Computer, Smart TV)?\n",
        "\n"
      ],
      "metadata": {
        "id": "ROMnzMiz96b6"
      }
    },
    {
      "cell_type": "code",
      "source": [
        "# Calculate the average monthly revenue for each device type\n",
        "average_revenue_per_device = df.groupby('Device')['Monthly Revenue'].mean()\n",
        "\n",
        "print(\"Average monthly revenue generated from each device type:\")\n",
        "for device, revenue in average_revenue_per_device.items():\n",
        "    print(f\"{device}: ${revenue:.2f}\")"
      ],
      "metadata": {
        "colab": {
          "base_uri": "https://localhost:8080/"
        },
        "id": "o8HgdRga99tk",
        "outputId": "657b9bfc-c587-4d86-dbc8-070afafa58eb"
      },
      "execution_count": 128,
      "outputs": [
        {
          "output_type": "stream",
          "name": "stdout",
          "text": [
            "Average monthly revenue generated from each device type:\n",
            "Laptop: $12.57\n",
            "Smart TV: $12.48\n",
            "Smartphone: $12.38\n",
            "Tablet: $12.59\n"
          ]
        }
      ]
    },
    {
      "cell_type": "markdown",
      "source": [
        "10. How many users have not made a payment in the last three months?\n",
        "\n"
      ],
      "metadata": {
        "id": "8Dg8C29h-2Vi"
      }
    },
    {
      "cell_type": "code",
      "source": [
        "# Calculate the date three months ago from the current date\n",
        "three_months_ago = datetime.now() - timedelta(days=3*30)\n",
        "\n",
        "# Convert 'Last Payment Date' to datetime format\n",
        "df['Last Payment Date'] = pd.to_datetime(df['Last Payment Date'])\n",
        "\n",
        "# Filter users who have not made a payment in the last three months\n",
        "users_not_paid_last_three_months = df[df['Last Payment Date'] < three_months_ago]\n",
        "\n",
        "# Count the number of users who have not made a payment in the last three months\n",
        "num_users_not_paid_last_three_months = len(users_not_paid_last_three_months)\n",
        "\n",
        "print(f\"The number of users who have not made a payment in the last three months is: {num_users_not_paid_last_three_months}\")"
      ],
      "metadata": {
        "colab": {
          "base_uri": "https://localhost:8080/"
        },
        "id": "wJQsrAL5-5TF",
        "outputId": "0e3739bb-4510-42e5-bad3-53193e0335d6"
      },
      "execution_count": 129,
      "outputs": [
        {
          "output_type": "stream",
          "name": "stdout",
          "text": [
            "The number of users who have not made a payment in the last three months is: 537\n"
          ]
        }
      ]
    },
    {
      "cell_type": "markdown",
      "source": [
        "11. Calculate the churn rate (percentage of users who stopped their subscriptions) for each subscription type.\n",
        "\n"
      ],
      "metadata": {
        "id": "M7wjFTSI_-P_"
      }
    },
    {
      "cell_type": "code",
      "source": [
        "# Identify the users who have stopped their subscriptions (churned users)\n",
        "churned_users = df[df['Last Payment Date'] < '2023-07-01']  # Assuming the current date is '2023-07-01'\n",
        "\n",
        "# Calculate the total number of users for each subscription type\n",
        "total_users_per_subscription = df.groupby('Subscription Type')['User ID'].count()\n",
        "\n",
        "# Calculate the number of churned users for each subscription type\n",
        "churned_users_per_subscription = churned_users.groupby('Subscription Type')['User ID'].count()\n",
        "\n",
        "# Calculate the churn rate (percentage of churned users) for each subscription type\n",
        "churn_rate_per_subscription = (churned_users_per_subscription / total_users_per_subscription) * 100\n",
        "\n",
        "print(\"Churn rate (percentage of users who stopped their subscriptions) for each subscription type:\")\n",
        "print(churn_rate_per_subscription)"
      ],
      "metadata": {
        "colab": {
          "base_uri": "https://localhost:8080/"
        },
        "id": "GjA2DuHxAAzO",
        "outputId": "76376f1c-81af-4fdd-b7a5-24e5b60fb75c"
      },
      "execution_count": 130,
      "outputs": [
        {
          "output_type": "stream",
          "name": "stdout",
          "text": [
            "Churn rate (percentage of users who stopped their subscriptions) for each subscription type:\n",
            "Subscription Type\n",
            "Basic       66.966967\n",
            "Premium     66.712142\n",
            "Standard    67.187500\n",
            "Name: User ID, dtype: float64\n"
          ]
        }
      ]
    }
  ]
}